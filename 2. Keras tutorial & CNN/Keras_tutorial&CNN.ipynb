{
 "cells": [
  {
   "cell_type": "markdown",
   "metadata": {
    "toc": true
   },
   "source": [
    "<h1>Table of Contents<span class=\"tocSkip\"></span></h1>\n",
    "<div class=\"toc\"><ul class=\"toc-item\"><li><span><a href=\"#Keras-tutorial-&amp;-CNN\" data-toc-modified-id=\"Keras-tutorial-&amp;-CNN-1\"><span class=\"toc-item-num\">1&nbsp;&nbsp;</span>Keras tutorial &amp; CNN</a></span><ul class=\"toc-item\"><li><span><a href=\"#Problem-review-:-SIGNS-Dataset\" data-toc-modified-id=\"Problem-review-:-SIGNS-Dataset-1.1\"><span class=\"toc-item-num\">1.1&nbsp;&nbsp;</span>Problem review : SIGNS Dataset</a></span></li><li><span><a href=\"#Basic-knowledge-of-CNN\" data-toc-modified-id=\"Basic-knowledge-of-CNN-1.2\"><span class=\"toc-item-num\">1.2&nbsp;&nbsp;</span>Basic knowledge of CNN</a></span></li><li><span><a href=\"#basic-block\" data-toc-modified-id=\"basic-block-1.3\"><span class=\"toc-item-num\">1.3&nbsp;&nbsp;</span>basic block</a></span></li><li><span><a href=\"#build-model\" data-toc-modified-id=\"build-model-1.4\"><span class=\"toc-item-num\">1.4&nbsp;&nbsp;</span>build model</a></span></li><li><span><a href=\"#visualize-your-model\" data-toc-modified-id=\"visualize-your-model-1.5\"><span class=\"toc-item-num\">1.5&nbsp;&nbsp;</span>visualize your model</a></span></li><li><span><a href=\"#train-your-model\" data-toc-modified-id=\"train-your-model-1.6\"><span class=\"toc-item-num\">1.6&nbsp;&nbsp;</span>train your model</a></span></li><li><span><a href=\"#prediect\" data-toc-modified-id=\"prediect-1.7\"><span class=\"toc-item-num\">1.7&nbsp;&nbsp;</span>prediect</a></span></li><li><span><a href=\"#save-model\" data-toc-modified-id=\"save-model-1.8\"><span class=\"toc-item-num\">1.8&nbsp;&nbsp;</span>save model</a></span></li><li><span><a href=\"#load-model\" data-toc-modified-id=\"load-model-1.9\"><span class=\"toc-item-num\">1.9&nbsp;&nbsp;</span>load model</a></span></li></ul></li><li><span><a href=\"#Homework\" data-toc-modified-id=\"Homework-2\"><span class=\"toc-item-num\">2&nbsp;&nbsp;</span>Homework</a></span><ul class=\"toc-item\"><li><span><a href=\"#Problem-statement:-MNIST-Dataset\" data-toc-modified-id=\"Problem-statement:-MNIST-Dataset-2.1\"><span class=\"toc-item-num\">2.1&nbsp;&nbsp;</span>Problem statement: MNIST Dataset</a></span></li></ul></li><li><span><a href=\"#Additional-question\" data-toc-modified-id=\"Additional-question-3\"><span class=\"toc-item-num\">3&nbsp;&nbsp;</span>Additional question</a></span><ul class=\"toc-item\"><li><span><a href=\"#Resnet\" data-toc-modified-id=\"Resnet-3.1\"><span class=\"toc-item-num\">3.1&nbsp;&nbsp;</span>Resnet</a></span></li></ul></li></ul></div>"
   ]
  },
  {
   "cell_type": "markdown",
   "metadata": {},
   "source": [
    "# Keras tutorial & CNN\n",
    "\n",
    "Welcome to this assignment, you will:\n",
    "1. Learn to use Keras, a high-level neural networks API (programming framework), written in Python and capable of running on top of several lower-level frameworks including TensorFlow and CNTK. \n",
    "2. See how you can in a couple of hours build a deep learning algorithm.\n",
    "\n",
    "Why are we using Keras? Keras was developed to enable deep learning engineers to build and experiment with different models very quickly. Just as TensorFlow is a higher-level framework than Python, Keras is an even higher-level framework and provides additional abstractions. Being able to go from idea to result with the least possible delay is key to finding good models. However, Keras is more restrictive than the lower-level frameworks, so there are some very complex models that you can implement in TensorFlow but not (without more difficulty) in Keras. That being said, Keras will work fine for many common models. \n",
    "\n",
    "In this exercise, you'll work on the \"SIGNS Dataset\" problem, which we'll explain below. Let's load the required packages and solve the problem of the Happy House!"
   ]
  },
  {
   "cell_type": "markdown",
   "metadata": {},
   "source": [
    "## Problem review : SIGNS Dataset\n",
    "\n",
    "In the previous assignment, you built helper functions using numpy to understand the mechanics behind convolutional neural networks. Most practical applications of deep learning today are built using programming frameworks, which have many built-in functions you can simply call. \n",
    "\n",
    "As usual, we will start by loading in the packages. "
   ]
  },
  {
   "cell_type": "code",
   "execution_count": 57,
   "metadata": {},
   "outputs": [],
   "source": [
    "from cnn_utils import load_dataset, convert_to_one_hot\n",
    "import matplotlib.pyplot as plt\n",
    "import numpy as np\n",
    "from matplotlib.pyplot import imshow\n",
    "import tensorflow as tf\n",
    "from tensorflow.keras import layers\n",
    "from tensorflow.keras.layers import Input, Dense, Activation, ZeroPadding2D, BatchNormalization, Flatten, Conv2D\n",
    "from tensorflow.keras.layers import AveragePooling2D, MaxPooling2D, Dropout, GlobalMaxPooling2D, GlobalAveragePooling2D\n",
    "from tensorflow.keras.models import Model\n",
    "\n",
    "import tensorflow.keras.backend as K\n",
    "K.set_image_data_format('channels_last')\n",
    "%matplotlib inline"
   ]
  },
  {
   "cell_type": "markdown",
   "metadata": {},
   "source": [
    "Run the next cell to load the \"SIGNS\" dataset you are going to use."
   ]
  },
  {
   "cell_type": "code",
   "execution_count": 3,
   "metadata": {},
   "outputs": [],
   "source": [
    "# Loading the data (signs)\n",
    "X_train_orig, Y_train_orig, X_test_orig, Y_test_orig, classes = load_dataset()"
   ]
  },
  {
   "cell_type": "markdown",
   "metadata": {},
   "source": [
    "As a reminder, the SIGNS dataset is a collection of 6 signs representing numbers from 0 to 5.\n",
    "\n",
    "<img src=\"images/SIGNS.png\" style=\"width:800px;height:300px;\">\n",
    "\n",
    "The next cell will show you an example of a labelled image in the dataset. Feel free to change the value of `index` below and re-run to see different examples. "
   ]
  },
  {
   "cell_type": "code",
   "execution_count": 4,
   "metadata": {},
   "outputs": [
    {
     "name": "stdout",
     "output_type": "stream",
     "text": [
      "y = 2\n"
     ]
    },
    {
     "data": {
      "image/png": "[encoded data removed]",
      "text/plain": [
       "<Figure size 432x288 with 1 Axes>"
      ]
     },
     "metadata": {
      "needs_background": "light"
     },
     "output_type": "display_data"
    }
   ],
   "source": [
    "# Example of a picture\n",
    "index = 6\n",
    "plt.imshow(X_train_orig[index])\n",
    "print (\"y = \" + str(np.squeeze(Y_train_orig[:, index])))"
   ]
  },
  {
   "cell_type": "markdown",
   "metadata": {},
   "source": [
    "In Course 2, you had built a fully-connected network for this dataset. But since this is an image dataset, it is more natural to apply a ConvNet to it.\n",
    "\n",
    "To get started, let's examine the shapes of your data. "
   ]
  },
  {
   "cell_type": "code",
   "execution_count": 5,
   "metadata": {},
   "outputs": [
    {
     "name": "stdout",
     "output_type": "stream",
     "text": [
      "number of training examples = 1080\n",
      "number of test examples = 120\n",
      "X_train shape: (1080, 64, 64, 3)\n",
      "Y_train shape: (1080, 6)\n",
      "X_test shape: (120, 64, 64, 3)\n",
      "Y_test shape: (120, 6)\n"
     ]
    }
   ],
   "source": [
    "X_train = X_train_orig/255.\n",
    "X_test = X_test_orig/255.\n",
    "Y_train = convert_to_one_hot(Y_train_orig, 6).T\n",
    "Y_test = convert_to_one_hot(Y_test_orig, 6).T\n",
    "print (\"number of training examples = \" + str(X_train.shape[0]))\n",
    "print (\"number of test examples = \" + str(X_test.shape[0]))\n",
    "print (\"X_train shape: \" + str(X_train.shape))\n",
    "print (\"Y_train shape: \" + str(Y_train.shape))\n",
    "print (\"X_test shape: \" + str(X_test.shape))\n",
    "print (\"Y_test shape: \" + str(Y_test.shape))\n",
    "conv_layers = {}"
   ]
  },
  {
   "cell_type": "markdown",
   "metadata": {},
   "source": [
    "## Basic knowledge of CNN\n",
    "You will learn:\n",
    "1. [convolution](./images/conv_kiank.mp4)\n",
    "2. padding\n",
    "3. stride\n",
    "4. pooling\n",
    "\n",
    "ALL of these based on [slides](http://cs230.stanford.edu/files/C4M1.pdf) by Andrew Ng"
   ]
  },
  {
   "cell_type": "markdown",
   "metadata": {},
   "source": [
    "## basic block"
   ]
  },
  {
   "cell_type": "code",
   "execution_count": 6,
   "metadata": {},
   "outputs": [],
   "source": [
    "def conv_bn_relu(filters,kernel_size,strides,inputs,bn_axis=3):\n",
    "    '''\n",
    "    CONV -> BN -> RELU Block applied to inputs\n",
    "    \n",
    "    '''\n",
    "    \n",
    "    X = Conv2D(filters, kernel_size, strides = strides)(inputs)\n",
    "    X = BatchNormalization(axis = bn_axis)(X)\n",
    "    outputs = Activation('relu')(X)\n",
    "    return outputs"
   ]
  },
  {
   "cell_type": "markdown",
   "metadata": {},
   "source": [
    "## build model"
   ]
  },
  {
   "cell_type": "code",
   "execution_count": 38,
   "metadata": {},
   "outputs": [],
   "source": [
    "def cnn_model(input_shape,output_shape):\n",
    "    \"\"\"\n",
    "    Implementation of the HappyModel.\n",
    "    \n",
    "    Arguments:\n",
    "    input_shape -- shape of the images of the dataset\n",
    "\n",
    "    Returns:\n",
    "    model -- a Model() instance in Keras\n",
    "    \"\"\"\n",
    "    \n",
    "   \n",
    "    # Define the input placeholder as a tensor with shape input_shape. Think of this as your input image!\n",
    "    X_input = Input(input_shape)\n",
    "\n",
    "    # Zero-Padding: pads the border of X_input with zeroes\n",
    "    X_1_zeropadding = ZeroPadding2D((3, 3))(X_input)\n",
    "    \n",
    "    # layer group1 32*32*32\n",
    "    # CONV -> BN -> RELU Block applied to X\n",
    "    X_1=conv_bn_relu(filters=32,kernel_size=(7, 7), strides = (1, 1),inputs=X_1_zeropadding)\n",
    "    X_1_pooling = MaxPooling2D((2, 2))(X_1)\n",
    "    \n",
    "    #layer group2 16*16*64\n",
    "    X_2_zeropadding = ZeroPadding2D((2, 2))(X_1_pooling)\n",
    "    \n",
    "    # CONV -> BN -> RELU Block applied to X\n",
    "    X_2=conv_bn_relu(filters=64,kernel_size=(5, 5), strides = (1, 1),inputs=X_2_zeropadding)\n",
    "    X_2_pooling = MaxPooling2D((2, 2))(X_2)\n",
    "    \n",
    "    #layer group3 8*8*128\n",
    "    X_3_zeropadding = ZeroPadding2D((1, 1))(X_2_pooling)\n",
    "    # CONV -> BN -> RELU Block applied to X\n",
    "    X_3=conv_bn_relu(filters=128,kernel_size=(3, 3), strides = (1, 1),inputs=X_3_zeropadding)\n",
    "    X_3_pooling = MaxPooling2D((2, 2))(X_3)\n",
    "    \n",
    "    #layer group4 8*8*64\n",
    "    # CONV -> BN -> RELU Block applied to X\n",
    "    X_4=conv_bn_relu(filters=64,kernel_size=(1, 1), strides = (1, 1),inputs=X_3_pooling)\n",
    "    X_4_pooling = MaxPooling2D((2, 2))(X_4)\n",
    "    \n",
    "    #layer group5 4*4*32\n",
    "    X_5_zeropadding = ZeroPadding2D((1, 1))(X_4)\n",
    "    # CONV -> BN -> RELU Block applied to X\n",
    "    X_5=conv_bn_relu(filters=32,kernel_size=(3, 3), strides = (1, 1),inputs=X_5_zeropadding)\n",
    "    X_5_pooling = MaxPooling2D((2, 2))(X_5)\n",
    "    \n",
    "    \n",
    "    # FLATTEN X (means convert it to a vector) + FULLYCONNECTED\n",
    "    X_flatten = Flatten()(X_5_pooling)\n",
    "    X_dense = Dense(128, activation='relu')(X_flatten)\n",
    "    outputs = Dense(output_shape, activation='softmax')(X_dense)\n",
    "\n",
    "    \n",
    "    # Create model. This creates your Keras model instance, you'll use this instance to train/test the model.\n",
    "    model = Model(inputs = X_input, outputs = outputs)\n",
    "    \n",
    "    ### END CODE HERE ###\n",
    "    \n",
    "    return model"
   ]
  },
  {
   "cell_type": "markdown",
   "metadata": {},
   "source": [
    "You have now built a function to describe your model. To train and test this model, there are four steps in Keras:\n",
    "1. Create the model by calling the function above\n",
    "2. Compile the model by calling `model.compile(optimizer = \"...\", loss = \"...\", metrics = [\"accuracy\"])`\n",
    "3. Train the model on train data by calling `model.fit(x = ..., y = ..., epochs = ..., batch_size = ...)`\n",
    "4. Test the model on test data by calling `model.evaluate(x = ..., y = ...)`\n",
    "\n",
    "If you want to know more about `model.compile()`, `model.fit()`, `model.evaluate()` and their arguments, refer to the official [Keras documentation](https://keras.io/models/model/).\n"
   ]
  },
  {
   "cell_type": "code",
   "execution_count": 39,
   "metadata": {},
   "outputs": [],
   "source": [
    "model= cnn_model(input_shape=(64,64,3),output_shape=6)"
   ]
  },
  {
   "cell_type": "markdown",
   "metadata": {},
   "source": [
    "## visualize your model"
   ]
  },
  {
   "cell_type": "code",
   "execution_count": 40,
   "metadata": {},
   "outputs": [
    {
     "name": "stdout",
     "output_type": "stream",
     "text": [
      "_________________________________________________________________\n",
      "Layer (type)                 Output Shape              Param #   \n",
      "=================================================================\n",
      "input_4 (InputLayer)         (None, 64, 64, 3)         0         \n",
      "_________________________________________________________________\n",
      "zero_padding2d_11 (ZeroPaddi (None, 70, 70, 3)         0         \n",
      "_________________________________________________________________\n",
      "conv2d_13 (Conv2D)           (None, 64, 64, 32)        4736      \n",
      "_________________________________________________________________\n",
      "batch_normalization_13 (Batc (None, 64, 64, 32)        128       \n",
      "_________________________________________________________________\n",
      "activation_13 (Activation)   (None, 64, 64, 32)        0         \n",
      "_________________________________________________________________\n",
      "max_pooling2d_10 (MaxPooling (None, 32, 32, 32)        0         \n",
      "_________________________________________________________________\n",
      "zero_padding2d_12 (ZeroPaddi (None, 36, 36, 32)        0         \n",
      "_________________________________________________________________\n",
      "conv2d_14 (Conv2D)           (None, 32, 32, 64)        51264     \n",
      "_________________________________________________________________\n",
      "batch_normalization_14 (Batc (None, 32, 32, 64)        256       \n",
      "_________________________________________________________________\n",
      "activation_14 (Activation)   (None, 32, 32, 64)        0         \n",
      "_________________________________________________________________\n",
      "max_pooling2d_11 (MaxPooling (None, 16, 16, 64)        0         \n",
      "_________________________________________________________________\n",
      "zero_padding2d_13 (ZeroPaddi (None, 18, 18, 64)        0         \n",
      "_________________________________________________________________\n",
      "conv2d_15 (Conv2D)           (None, 16, 16, 128)       73856     \n",
      "_________________________________________________________________\n",
      "batch_normalization_15 (Batc (None, 16, 16, 128)       512       \n",
      "_________________________________________________________________\n",
      "activation_15 (Activation)   (None, 16, 16, 128)       0         \n",
      "_________________________________________________________________\n",
      "max_pooling2d_12 (MaxPooling (None, 8, 8, 128)         0         \n",
      "_________________________________________________________________\n",
      "conv2d_16 (Conv2D)           (None, 8, 8, 64)          8256      \n",
      "_________________________________________________________________\n",
      "batch_normalization_16 (Batc (None, 8, 8, 64)          256       \n",
      "_________________________________________________________________\n",
      "activation_16 (Activation)   (None, 8, 8, 64)          0         \n",
      "_________________________________________________________________\n",
      "zero_padding2d_14 (ZeroPaddi (None, 10, 10, 64)        0         \n",
      "_________________________________________________________________\n",
      "conv2d_17 (Conv2D)           (None, 8, 8, 32)          18464     \n",
      "_________________________________________________________________\n",
      "batch_normalization_17 (Batc (None, 8, 8, 32)          128       \n",
      "_________________________________________________________________\n",
      "activation_17 (Activation)   (None, 8, 8, 32)          0         \n",
      "_________________________________________________________________\n",
      "max_pooling2d_14 (MaxPooling (None, 4, 4, 32)          0         \n",
      "_________________________________________________________________\n",
      "flatten_3 (Flatten)          (None, 512)               0         \n",
      "_________________________________________________________________\n",
      "dense_6 (Dense)              (None, 128)               65664     \n",
      "_________________________________________________________________\n",
      "dense_7 (Dense)              (None, 6)                 774       \n",
      "=================================================================\n",
      "Total params: 224,294\n",
      "Trainable params: 223,654\n",
      "Non-trainable params: 640\n",
      "_________________________________________________________________\n"
     ]
    }
   ],
   "source": [
    "model.summary()"
   ]
  },
  {
   "cell_type": "code",
   "execution_count": 41,
   "metadata": {},
   "outputs": [
    {
     "data": {
      "image/svg+xml": [
       "<svg height=\"2213pt\" viewBox=\"0.00 0.00 315.00 2213.00\" width=\"315pt\" xmlns=\"http://www.w3.org/2000/svg\" xmlns:xlink=\"http://www.w3.org/1999/xlink\">\n",
       "<g class=\"graph\" id=\"graph0\" transform=\"scale(1 1) rotate(0) translate(4 2209)\">\n",
       "<title>G</title>\n",
       "<polygon fill=\"#ffffff\" points=\"-4,4 -4,-2209 311,-2209 311,4 -4,4\" stroke=\"transparent\"/>\n",
       "<!-- 140438185846712 -->\n",
       "<g class=\"node\" id=\"node1\">\n",
       "<title>140438185846712</title>\n",
       "<polygon fill=\"none\" points=\"32,-2158.5 32,-2204.5 275,-2204.5 275,-2158.5 32,-2158.5\" stroke=\"#000000\"/>\n",
       "<text fill=\"#000000\" font-family=\"Times,serif\" font-size=\"14.00\" text-anchor=\"middle\" x=\"70.5\" y=\"-2177.8\">InputLayer</text>\n",
       "<polyline fill=\"none\" points=\"109,-2158.5 109,-2204.5 \" stroke=\"#000000\"/>\n",
       "<text fill=\"#000000\" font-family=\"Times,serif\" font-size=\"14.00\" text-anchor=\"middle\" x=\"136.5\" y=\"-2189.3\">input:</text>\n",
       "<polyline fill=\"none\" points=\"109,-2181.5 164,-2181.5 \" stroke=\"#000000\"/>\n",
       "<text fill=\"#000000\" font-family=\"Times,serif\" font-size=\"14.00\" text-anchor=\"middle\" x=\"136.5\" y=\"-2166.3\">output:</text>\n",
       "<polyline fill=\"none\" points=\"164,-2158.5 164,-2204.5 \" stroke=\"#000000\"/>\n",
       "<text fill=\"#000000\" font-family=\"Times,serif\" font-size=\"14.00\" text-anchor=\"middle\" x=\"219.5\" y=\"-2189.3\">(None, 64, 64, 3)</text>\n",
       "<polyline fill=\"none\" points=\"164,-2181.5 275,-2181.5 \" stroke=\"#000000\"/>\n",
       "<text fill=\"#000000\" font-family=\"Times,serif\" font-size=\"14.00\" text-anchor=\"middle\" x=\"219.5\" y=\"-2166.3\">(None, 64, 64, 3)</text>\n",
       "</g>\n",
       "<!-- 140438185848112 -->\n",
       "<g class=\"node\" id=\"node2\">\n",
       "<title>140438185848112</title>\n",
       "<polygon fill=\"none\" points=\"19,-2075.5 19,-2121.5 288,-2121.5 288,-2075.5 19,-2075.5\" stroke=\"#000000\"/>\n",
       "<text fill=\"#000000\" font-family=\"Times,serif\" font-size=\"14.00\" text-anchor=\"middle\" x=\"70.5\" y=\"-2094.8\">ZeroPadding2D</text>\n",
       "<polyline fill=\"none\" points=\"122,-2075.5 122,-2121.5 \" stroke=\"#000000\"/>\n",
       "<text fill=\"#000000\" font-family=\"Times,serif\" font-size=\"14.00\" text-anchor=\"middle\" x=\"149.5\" y=\"-2106.3\">input:</text>\n",
       "<polyline fill=\"none\" points=\"122,-2098.5 177,-2098.5 \" stroke=\"#000000\"/>\n",
       "<text fill=\"#000000\" font-family=\"Times,serif\" font-size=\"14.00\" text-anchor=\"middle\" x=\"149.5\" y=\"-2083.3\">output:</text>\n",
       "<polyline fill=\"none\" points=\"177,-2075.5 177,-2121.5 \" stroke=\"#000000\"/>\n",
       "<text fill=\"#000000\" font-family=\"Times,serif\" font-size=\"14.00\" text-anchor=\"middle\" x=\"232.5\" y=\"-2106.3\">(None, 64, 64, 3)</text>\n",
       "<polyline fill=\"none\" points=\"177,-2098.5 288,-2098.5 \" stroke=\"#000000\"/>\n",
       "<text fill=\"#000000\" font-family=\"Times,serif\" font-size=\"14.00\" text-anchor=\"middle\" x=\"232.5\" y=\"-2083.3\">(None, 70, 70, 3)</text>\n",
       "</g>\n",
       "<!-- 140438185846712&#45;&gt;140438185848112 -->\n",
       "<g class=\"edge\" id=\"edge1\">\n",
       "<title>140438185846712-&gt;140438185848112</title>\n",
       "<path d=\"M153.5,-2158.3799C153.5,-2150.1745 153.5,-2140.7679 153.5,-2131.8786\" fill=\"none\" stroke=\"#000000\"/>\n",
       "<polygon fill=\"#000000\" points=\"157.0001,-2131.784 153.5,-2121.784 150.0001,-2131.784 157.0001,-2131.784\" stroke=\"#000000\"/>\n",
       "</g>\n",
       "<!-- 140438185848280 -->\n",
       "<g class=\"node\" id=\"node3\">\n",
       "<title>140438185848280</title>\n",
       "<polygon fill=\"none\" points=\"36,-1992.5 36,-2038.5 271,-2038.5 271,-1992.5 36,-1992.5\" stroke=\"#000000\"/>\n",
       "<text fill=\"#000000\" font-family=\"Times,serif\" font-size=\"14.00\" text-anchor=\"middle\" x=\"67\" y=\"-2011.8\">Conv2D</text>\n",
       "<polyline fill=\"none\" points=\"98,-1992.5 98,-2038.5 \" stroke=\"#000000\"/>\n",
       "<text fill=\"#000000\" font-family=\"Times,serif\" font-size=\"14.00\" text-anchor=\"middle\" x=\"125.5\" y=\"-2023.3\">input:</text>\n",
       "<polyline fill=\"none\" points=\"98,-2015.5 153,-2015.5 \" stroke=\"#000000\"/>\n",
       "<text fill=\"#000000\" font-family=\"Times,serif\" font-size=\"14.00\" text-anchor=\"middle\" x=\"125.5\" y=\"-2000.3\">output:</text>\n",
       "<polyline fill=\"none\" points=\"153,-1992.5 153,-2038.5 \" stroke=\"#000000\"/>\n",
       "<text fill=\"#000000\" font-family=\"Times,serif\" font-size=\"14.00\" text-anchor=\"middle\" x=\"212\" y=\"-2023.3\">(None, 70, 70, 3)</text>\n",
       "<polyline fill=\"none\" points=\"153,-2015.5 271,-2015.5 \" stroke=\"#000000\"/>\n",
       "<text fill=\"#000000\" font-family=\"Times,serif\" font-size=\"14.00\" text-anchor=\"middle\" x=\"212\" y=\"-2000.3\">(None, 64, 64, 32)</text>\n",
       "</g>\n",
       "<!-- 140438185848112&#45;&gt;140438185848280 -->\n",
       "<g class=\"edge\" id=\"edge2\">\n",
       "<title>140438185848112-&gt;140438185848280</title>\n",
       "<path d=\"M153.5,-2075.3799C153.5,-2067.1745 153.5,-2057.7679 153.5,-2048.8786\" fill=\"none\" stroke=\"#000000\"/>\n",
       "<polygon fill=\"#000000\" points=\"157.0001,-2048.784 153.5,-2038.784 150.0001,-2048.784 157.0001,-2048.784\" stroke=\"#000000\"/>\n",
       "</g>\n",
       "<!-- 140438185846544 -->\n",
       "<g class=\"node\" id=\"node4\">\n",
       "<title>140438185846544</title>\n",
       "<polygon fill=\"none\" points=\"3.5,-1909.5 3.5,-1955.5 303.5,-1955.5 303.5,-1909.5 3.5,-1909.5\" stroke=\"#000000\"/>\n",
       "<text fill=\"#000000\" font-family=\"Times,serif\" font-size=\"14.00\" text-anchor=\"middle\" x=\"67\" y=\"-1928.8\">BatchNormalization</text>\n",
       "<polyline fill=\"none\" points=\"130.5,-1909.5 130.5,-1955.5 \" stroke=\"#000000\"/>\n",
       "<text fill=\"#000000\" font-family=\"Times,serif\" font-size=\"14.00\" text-anchor=\"middle\" x=\"158\" y=\"-1940.3\">input:</text>\n",
       "<polyline fill=\"none\" points=\"130.5,-1932.5 185.5,-1932.5 \" stroke=\"#000000\"/>\n",
       "<text fill=\"#000000\" font-family=\"Times,serif\" font-size=\"14.00\" text-anchor=\"middle\" x=\"158\" y=\"-1917.3\">output:</text>\n",
       "<polyline fill=\"none\" points=\"185.5,-1909.5 185.5,-1955.5 \" stroke=\"#000000\"/>\n",
       "<text fill=\"#000000\" font-family=\"Times,serif\" font-size=\"14.00\" text-anchor=\"middle\" x=\"244.5\" y=\"-1940.3\">(None, 64, 64, 32)</text>\n",
       "<polyline fill=\"none\" points=\"185.5,-1932.5 303.5,-1932.5 \" stroke=\"#000000\"/>\n",
       "<text fill=\"#000000\" font-family=\"Times,serif\" font-size=\"14.00\" text-anchor=\"middle\" x=\"244.5\" y=\"-1917.3\">(None, 64, 64, 32)</text>\n",
       "</g>\n",
       "<!-- 140438185848280&#45;&gt;140438185846544 -->\n",
       "<g class=\"edge\" id=\"edge3\">\n",
       "<title>140438185848280-&gt;140438185846544</title>\n",
       "<path d=\"M153.5,-1992.3799C153.5,-1984.1745 153.5,-1974.7679 153.5,-1965.8786\" fill=\"none\" stroke=\"#000000\"/>\n",
       "<polygon fill=\"#000000\" points=\"157.0001,-1965.784 153.5,-1955.784 150.0001,-1965.784 157.0001,-1965.784\" stroke=\"#000000\"/>\n",
       "</g>\n",
       "<!-- 140438185937496 -->\n",
       "<g class=\"node\" id=\"node5\">\n",
       "<title>140438185937496</title>\n",
       "<polygon fill=\"none\" points=\"30,-1826.5 30,-1872.5 277,-1872.5 277,-1826.5 30,-1826.5\" stroke=\"#000000\"/>\n",
       "<text fill=\"#000000\" font-family=\"Times,serif\" font-size=\"14.00\" text-anchor=\"middle\" x=\"67\" y=\"-1845.8\">Activation</text>\n",
       "<polyline fill=\"none\" points=\"104,-1826.5 104,-1872.5 \" stroke=\"#000000\"/>\n",
       "<text fill=\"#000000\" font-family=\"Times,serif\" font-size=\"14.00\" text-anchor=\"middle\" x=\"131.5\" y=\"-1857.3\">input:</text>\n",
       "<polyline fill=\"none\" points=\"104,-1849.5 159,-1849.5 \" stroke=\"#000000\"/>\n",
       "<text fill=\"#000000\" font-family=\"Times,serif\" font-size=\"14.00\" text-anchor=\"middle\" x=\"131.5\" y=\"-1834.3\">output:</text>\n",
       "<polyline fill=\"none\" points=\"159,-1826.5 159,-1872.5 \" stroke=\"#000000\"/>\n",
       "<text fill=\"#000000\" font-family=\"Times,serif\" font-size=\"14.00\" text-anchor=\"middle\" x=\"218\" y=\"-1857.3\">(None, 64, 64, 32)</text>\n",
       "<polyline fill=\"none\" points=\"159,-1849.5 277,-1849.5 \" stroke=\"#000000\"/>\n",
       "<text fill=\"#000000\" font-family=\"Times,serif\" font-size=\"14.00\" text-anchor=\"middle\" x=\"218\" y=\"-1834.3\">(None, 64, 64, 32)</text>\n",
       "</g>\n",
       "<!-- 140438185846544&#45;&gt;140438185937496 -->\n",
       "<g class=\"edge\" id=\"edge4\">\n",
       "<title>140438185846544-&gt;140438185937496</title>\n",
       "<path d=\"M153.5,-1909.3799C153.5,-1901.1745 153.5,-1891.7679 153.5,-1882.8786\" fill=\"none\" stroke=\"#000000\"/>\n",
       "<polygon fill=\"#000000\" points=\"157.0001,-1882.784 153.5,-1872.784 150.0001,-1882.784 157.0001,-1882.784\" stroke=\"#000000\"/>\n",
       "</g>\n",
       "<!-- 140438185938616 -->\n",
       "<g class=\"node\" id=\"node6\">\n",
       "<title>140438185938616</title>\n",
       "<polygon fill=\"none\" points=\"16.5,-1743.5 16.5,-1789.5 290.5,-1789.5 290.5,-1743.5 16.5,-1743.5\" stroke=\"#000000\"/>\n",
       "<text fill=\"#000000\" font-family=\"Times,serif\" font-size=\"14.00\" text-anchor=\"middle\" x=\"67\" y=\"-1762.8\">MaxPooling2D</text>\n",
       "<polyline fill=\"none\" points=\"117.5,-1743.5 117.5,-1789.5 \" stroke=\"#000000\"/>\n",
       "<text fill=\"#000000\" font-family=\"Times,serif\" font-size=\"14.00\" text-anchor=\"middle\" x=\"145\" y=\"-1774.3\">input:</text>\n",
       "<polyline fill=\"none\" points=\"117.5,-1766.5 172.5,-1766.5 \" stroke=\"#000000\"/>\n",
       "<text fill=\"#000000\" font-family=\"Times,serif\" font-size=\"14.00\" text-anchor=\"middle\" x=\"145\" y=\"-1751.3\">output:</text>\n",
       "<polyline fill=\"none\" points=\"172.5,-1743.5 172.5,-1789.5 \" stroke=\"#000000\"/>\n",
       "<text fill=\"#000000\" font-family=\"Times,serif\" font-size=\"14.00\" text-anchor=\"middle\" x=\"231.5\" y=\"-1774.3\">(None, 64, 64, 32)</text>\n",
       "<polyline fill=\"none\" points=\"172.5,-1766.5 290.5,-1766.5 \" stroke=\"#000000\"/>\n",
       "<text fill=\"#000000\" font-family=\"Times,serif\" font-size=\"14.00\" text-anchor=\"middle\" x=\"231.5\" y=\"-1751.3\">(None, 32, 32, 32)</text>\n",
       "</g>\n",
       "<!-- 140438185937496&#45;&gt;140438185938616 -->\n",
       "<g class=\"edge\" id=\"edge5\">\n",
       "<title>140438185937496-&gt;140438185938616</title>\n",
       "<path d=\"M153.5,-1826.3799C153.5,-1818.1745 153.5,-1808.7679 153.5,-1799.8786\" fill=\"none\" stroke=\"#000000\"/>\n",
       "<polygon fill=\"#000000\" points=\"157.0001,-1799.784 153.5,-1789.784 150.0001,-1799.784 157.0001,-1799.784\" stroke=\"#000000\"/>\n",
       "</g>\n",
       "<!-- 140438185057584 -->\n",
       "<g class=\"node\" id=\"node7\">\n",
       "<title>140438185057584</title>\n",
       "<polygon fill=\"none\" points=\"15.5,-1660.5 15.5,-1706.5 291.5,-1706.5 291.5,-1660.5 15.5,-1660.5\" stroke=\"#000000\"/>\n",
       "<text fill=\"#000000\" font-family=\"Times,serif\" font-size=\"14.00\" text-anchor=\"middle\" x=\"67\" y=\"-1679.8\">ZeroPadding2D</text>\n",
       "<polyline fill=\"none\" points=\"118.5,-1660.5 118.5,-1706.5 \" stroke=\"#000000\"/>\n",
       "<text fill=\"#000000\" font-family=\"Times,serif\" font-size=\"14.00\" text-anchor=\"middle\" x=\"146\" y=\"-1691.3\">input:</text>\n",
       "<polyline fill=\"none\" points=\"118.5,-1683.5 173.5,-1683.5 \" stroke=\"#000000\"/>\n",
       "<text fill=\"#000000\" font-family=\"Times,serif\" font-size=\"14.00\" text-anchor=\"middle\" x=\"146\" y=\"-1668.3\">output:</text>\n",
       "<polyline fill=\"none\" points=\"173.5,-1660.5 173.5,-1706.5 \" stroke=\"#000000\"/>\n",
       "<text fill=\"#000000\" font-family=\"Times,serif\" font-size=\"14.00\" text-anchor=\"middle\" x=\"232.5\" y=\"-1691.3\">(None, 32, 32, 32)</text>\n",
       "<polyline fill=\"none\" points=\"173.5,-1683.5 291.5,-1683.5 \" stroke=\"#000000\"/>\n",
       "<text fill=\"#000000\" font-family=\"Times,serif\" font-size=\"14.00\" text-anchor=\"middle\" x=\"232.5\" y=\"-1668.3\">(None, 36, 36, 32)</text>\n",
       "</g>\n",
       "<!-- 140438185938616&#45;&gt;140438185057584 -->\n",
       "<g class=\"edge\" id=\"edge6\">\n",
       "<title>140438185938616-&gt;140438185057584</title>\n",
       "<path d=\"M153.5,-1743.3799C153.5,-1735.1745 153.5,-1725.7679 153.5,-1716.8786\" fill=\"none\" stroke=\"#000000\"/>\n",
       "<polygon fill=\"#000000\" points=\"157.0001,-1716.784 153.5,-1706.784 150.0001,-1716.784 157.0001,-1716.784\" stroke=\"#000000\"/>\n",
       "</g>\n",
       "<!-- 140438185513928 -->\n",
       "<g class=\"node\" id=\"node8\">\n",
       "<title>140438185513928</title>\n",
       "<polygon fill=\"none\" points=\"36,-1577.5 36,-1623.5 271,-1623.5 271,-1577.5 36,-1577.5\" stroke=\"#000000\"/>\n",
       "<text fill=\"#000000\" font-family=\"Times,serif\" font-size=\"14.00\" text-anchor=\"middle\" x=\"67\" y=\"-1596.8\">Conv2D</text>\n",
       "<polyline fill=\"none\" points=\"98,-1577.5 98,-1623.5 \" stroke=\"#000000\"/>\n",
       "<text fill=\"#000000\" font-family=\"Times,serif\" font-size=\"14.00\" text-anchor=\"middle\" x=\"125.5\" y=\"-1608.3\">input:</text>\n",
       "<polyline fill=\"none\" points=\"98,-1600.5 153,-1600.5 \" stroke=\"#000000\"/>\n",
       "<text fill=\"#000000\" font-family=\"Times,serif\" font-size=\"14.00\" text-anchor=\"middle\" x=\"125.5\" y=\"-1585.3\">output:</text>\n",
       "<polyline fill=\"none\" points=\"153,-1577.5 153,-1623.5 \" stroke=\"#000000\"/>\n",
       "<text fill=\"#000000\" font-family=\"Times,serif\" font-size=\"14.00\" text-anchor=\"middle\" x=\"212\" y=\"-1608.3\">(None, 36, 36, 32)</text>\n",
       "<polyline fill=\"none\" points=\"153,-1600.5 271,-1600.5 \" stroke=\"#000000\"/>\n",
       "<text fill=\"#000000\" font-family=\"Times,serif\" font-size=\"14.00\" text-anchor=\"middle\" x=\"212\" y=\"-1585.3\">(None, 32, 32, 64)</text>\n",
       "</g>\n",
       "<!-- 140438185057584&#45;&gt;140438185513928 -->\n",
       "<g class=\"edge\" id=\"edge7\">\n",
       "<title>140438185057584-&gt;140438185513928</title>\n",
       "<path d=\"M153.5,-1660.3799C153.5,-1652.1745 153.5,-1642.7679 153.5,-1633.8786\" fill=\"none\" stroke=\"#000000\"/>\n",
       "<polygon fill=\"#000000\" points=\"157.0001,-1633.784 153.5,-1623.784 150.0001,-1633.784 157.0001,-1633.784\" stroke=\"#000000\"/>\n",
       "</g>\n",
       "<!-- 140438184641872 -->\n",
       "<g class=\"node\" id=\"node9\">\n",
       "<title>140438184641872</title>\n",
       "<polygon fill=\"none\" points=\"3.5,-1494.5 3.5,-1540.5 303.5,-1540.5 303.5,-1494.5 3.5,-1494.5\" stroke=\"#000000\"/>\n",
       "<text fill=\"#000000\" font-family=\"Times,serif\" font-size=\"14.00\" text-anchor=\"middle\" x=\"67\" y=\"-1513.8\">BatchNormalization</text>\n",
       "<polyline fill=\"none\" points=\"130.5,-1494.5 130.5,-1540.5 \" stroke=\"#000000\"/>\n",
       "<text fill=\"#000000\" font-family=\"Times,serif\" font-size=\"14.00\" text-anchor=\"middle\" x=\"158\" y=\"-1525.3\">input:</text>\n",
       "<polyline fill=\"none\" points=\"130.5,-1517.5 185.5,-1517.5 \" stroke=\"#000000\"/>\n",
       "<text fill=\"#000000\" font-family=\"Times,serif\" font-size=\"14.00\" text-anchor=\"middle\" x=\"158\" y=\"-1502.3\">output:</text>\n",
       "<polyline fill=\"none\" points=\"185.5,-1494.5 185.5,-1540.5 \" stroke=\"#000000\"/>\n",
       "<text fill=\"#000000\" font-family=\"Times,serif\" font-size=\"14.00\" text-anchor=\"middle\" x=\"244.5\" y=\"-1525.3\">(None, 32, 32, 64)</text>\n",
       "<polyline fill=\"none\" points=\"185.5,-1517.5 303.5,-1517.5 \" stroke=\"#000000\"/>\n",
       "<text fill=\"#000000\" font-family=\"Times,serif\" font-size=\"14.00\" text-anchor=\"middle\" x=\"244.5\" y=\"-1502.3\">(None, 32, 32, 64)</text>\n",
       "</g>\n",
       "<!-- 140438185513928&#45;&gt;140438184641872 -->\n",
       "<g class=\"edge\" id=\"edge8\">\n",
       "<title>140438185513928-&gt;140438184641872</title>\n",
       "<path d=\"M153.5,-1577.3799C153.5,-1569.1745 153.5,-1559.7679 153.5,-1550.8786\" fill=\"none\" stroke=\"#000000\"/>\n",
       "<polygon fill=\"#000000\" points=\"157.0001,-1550.784 153.5,-1540.784 150.0001,-1550.784 157.0001,-1550.784\" stroke=\"#000000\"/>\n",
       "</g>\n",
       "<!-- 140439135320440 -->\n",
       "<g class=\"node\" id=\"node10\">\n",
       "<title>140439135320440</title>\n",
       "<polygon fill=\"none\" points=\"30,-1411.5 30,-1457.5 277,-1457.5 277,-1411.5 30,-1411.5\" stroke=\"#000000\"/>\n",
       "<text fill=\"#000000\" font-family=\"Times,serif\" font-size=\"14.00\" text-anchor=\"middle\" x=\"67\" y=\"-1430.8\">Activation</text>\n",
       "<polyline fill=\"none\" points=\"104,-1411.5 104,-1457.5 \" stroke=\"#000000\"/>\n",
       "<text fill=\"#000000\" font-family=\"Times,serif\" font-size=\"14.00\" text-anchor=\"middle\" x=\"131.5\" y=\"-1442.3\">input:</text>\n",
       "<polyline fill=\"none\" points=\"104,-1434.5 159,-1434.5 \" stroke=\"#000000\"/>\n",
       "<text fill=\"#000000\" font-family=\"Times,serif\" font-size=\"14.00\" text-anchor=\"middle\" x=\"131.5\" y=\"-1419.3\">output:</text>\n",
       "<polyline fill=\"none\" points=\"159,-1411.5 159,-1457.5 \" stroke=\"#000000\"/>\n",
       "<text fill=\"#000000\" font-family=\"Times,serif\" font-size=\"14.00\" text-anchor=\"middle\" x=\"218\" y=\"-1442.3\">(None, 32, 32, 64)</text>\n",
       "<polyline fill=\"none\" points=\"159,-1434.5 277,-1434.5 \" stroke=\"#000000\"/>\n",
       "<text fill=\"#000000\" font-family=\"Times,serif\" font-size=\"14.00\" text-anchor=\"middle\" x=\"218\" y=\"-1419.3\">(None, 32, 32, 64)</text>\n",
       "</g>\n",
       "<!-- 140438184641872&#45;&gt;140439135320440 -->\n",
       "<g class=\"edge\" id=\"edge9\">\n",
       "<title>140438184641872-&gt;140439135320440</title>\n",
       "<path d=\"M153.5,-1494.3799C153.5,-1486.1745 153.5,-1476.7679 153.5,-1467.8786\" fill=\"none\" stroke=\"#000000\"/>\n",
       "<polygon fill=\"#000000\" points=\"157.0001,-1467.784 153.5,-1457.784 150.0001,-1467.784 157.0001,-1467.784\" stroke=\"#000000\"/>\n",
       "</g>\n",
       "<!-- 140438184641816 -->\n",
       "<g class=\"node\" id=\"node11\">\n",
       "<title>140438184641816</title>\n",
       "<polygon fill=\"none\" points=\"16.5,-1328.5 16.5,-1374.5 290.5,-1374.5 290.5,-1328.5 16.5,-1328.5\" stroke=\"#000000\"/>\n",
       "<text fill=\"#000000\" font-family=\"Times,serif\" font-size=\"14.00\" text-anchor=\"middle\" x=\"67\" y=\"-1347.8\">MaxPooling2D</text>\n",
       "<polyline fill=\"none\" points=\"117.5,-1328.5 117.5,-1374.5 \" stroke=\"#000000\"/>\n",
       "<text fill=\"#000000\" font-family=\"Times,serif\" font-size=\"14.00\" text-anchor=\"middle\" x=\"145\" y=\"-1359.3\">input:</text>\n",
       "<polyline fill=\"none\" points=\"117.5,-1351.5 172.5,-1351.5 \" stroke=\"#000000\"/>\n",
       "<text fill=\"#000000\" font-family=\"Times,serif\" font-size=\"14.00\" text-anchor=\"middle\" x=\"145\" y=\"-1336.3\">output:</text>\n",
       "<polyline fill=\"none\" points=\"172.5,-1328.5 172.5,-1374.5 \" stroke=\"#000000\"/>\n",
       "<text fill=\"#000000\" font-family=\"Times,serif\" font-size=\"14.00\" text-anchor=\"middle\" x=\"231.5\" y=\"-1359.3\">(None, 32, 32, 64)</text>\n",
       "<polyline fill=\"none\" points=\"172.5,-1351.5 290.5,-1351.5 \" stroke=\"#000000\"/>\n",
       "<text fill=\"#000000\" font-family=\"Times,serif\" font-size=\"14.00\" text-anchor=\"middle\" x=\"231.5\" y=\"-1336.3\">(None, 16, 16, 64)</text>\n",
       "</g>\n",
       "<!-- 140439135320440&#45;&gt;140438184641816 -->\n",
       "<g class=\"edge\" id=\"edge10\">\n",
       "<title>140439135320440-&gt;140438184641816</title>\n",
       "<path d=\"M153.5,-1411.3799C153.5,-1403.1745 153.5,-1393.7679 153.5,-1384.8786\" fill=\"none\" stroke=\"#000000\"/>\n",
       "<polygon fill=\"#000000\" points=\"157.0001,-1384.784 153.5,-1374.784 150.0001,-1384.784 157.0001,-1384.784\" stroke=\"#000000\"/>\n",
       "</g>\n",
       "<!-- 140439149813544 -->\n",
       "<g class=\"node\" id=\"node12\">\n",
       "<title>140439149813544</title>\n",
       "<polygon fill=\"none\" points=\"15.5,-1245.5 15.5,-1291.5 291.5,-1291.5 291.5,-1245.5 15.5,-1245.5\" stroke=\"#000000\"/>\n",
       "<text fill=\"#000000\" font-family=\"Times,serif\" font-size=\"14.00\" text-anchor=\"middle\" x=\"67\" y=\"-1264.8\">ZeroPadding2D</text>\n",
       "<polyline fill=\"none\" points=\"118.5,-1245.5 118.5,-1291.5 \" stroke=\"#000000\"/>\n",
       "<text fill=\"#000000\" font-family=\"Times,serif\" font-size=\"14.00\" text-anchor=\"middle\" x=\"146\" y=\"-1276.3\">input:</text>\n",
       "<polyline fill=\"none\" points=\"118.5,-1268.5 173.5,-1268.5 \" stroke=\"#000000\"/>\n",
       "<text fill=\"#000000\" font-family=\"Times,serif\" font-size=\"14.00\" text-anchor=\"middle\" x=\"146\" y=\"-1253.3\">output:</text>\n",
       "<polyline fill=\"none\" points=\"173.5,-1245.5 173.5,-1291.5 \" stroke=\"#000000\"/>\n",
       "<text fill=\"#000000\" font-family=\"Times,serif\" font-size=\"14.00\" text-anchor=\"middle\" x=\"232.5\" y=\"-1276.3\">(None, 16, 16, 64)</text>\n",
       "<polyline fill=\"none\" points=\"173.5,-1268.5 291.5,-1268.5 \" stroke=\"#000000\"/>\n",
       "<text fill=\"#000000\" font-family=\"Times,serif\" font-size=\"14.00\" text-anchor=\"middle\" x=\"232.5\" y=\"-1253.3\">(None, 18, 18, 64)</text>\n",
       "</g>\n",
       "<!-- 140438184641816&#45;&gt;140439149813544 -->\n",
       "<g class=\"edge\" id=\"edge11\">\n",
       "<title>140438184641816-&gt;140439149813544</title>\n",
       "<path d=\"M153.5,-1328.3799C153.5,-1320.1745 153.5,-1310.7679 153.5,-1301.8786\" fill=\"none\" stroke=\"#000000\"/>\n",
       "<polygon fill=\"#000000\" points=\"157.0001,-1301.784 153.5,-1291.784 150.0001,-1301.784 157.0001,-1301.784\" stroke=\"#000000\"/>\n",
       "</g>\n",
       "<!-- 140440934512792 -->\n",
       "<g class=\"node\" id=\"node13\">\n",
       "<title>140440934512792</title>\n",
       "<polygon fill=\"none\" points=\"32.5,-1162.5 32.5,-1208.5 274.5,-1208.5 274.5,-1162.5 32.5,-1162.5\" stroke=\"#000000\"/>\n",
       "<text fill=\"#000000\" font-family=\"Times,serif\" font-size=\"14.00\" text-anchor=\"middle\" x=\"63.5\" y=\"-1181.8\">Conv2D</text>\n",
       "<polyline fill=\"none\" points=\"94.5,-1162.5 94.5,-1208.5 \" stroke=\"#000000\"/>\n",
       "<text fill=\"#000000\" font-family=\"Times,serif\" font-size=\"14.00\" text-anchor=\"middle\" x=\"122\" y=\"-1193.3\">input:</text>\n",
       "<polyline fill=\"none\" points=\"94.5,-1185.5 149.5,-1185.5 \" stroke=\"#000000\"/>\n",
       "<text fill=\"#000000\" font-family=\"Times,serif\" font-size=\"14.00\" text-anchor=\"middle\" x=\"122\" y=\"-1170.3\">output:</text>\n",
       "<polyline fill=\"none\" points=\"149.5,-1162.5 149.5,-1208.5 \" stroke=\"#000000\"/>\n",
       "<text fill=\"#000000\" font-family=\"Times,serif\" font-size=\"14.00\" text-anchor=\"middle\" x=\"212\" y=\"-1193.3\">(None, 18, 18, 64)</text>\n",
       "<polyline fill=\"none\" points=\"149.5,-1185.5 274.5,-1185.5 \" stroke=\"#000000\"/>\n",
       "<text fill=\"#000000\" font-family=\"Times,serif\" font-size=\"14.00\" text-anchor=\"middle\" x=\"212\" y=\"-1170.3\">(None, 16, 16, 128)</text>\n",
       "</g>\n",
       "<!-- 140439149813544&#45;&gt;140440934512792 -->\n",
       "<g class=\"edge\" id=\"edge12\">\n",
       "<title>140439149813544-&gt;140440934512792</title>\n",
       "<path d=\"M153.5,-1245.3799C153.5,-1237.1745 153.5,-1227.7679 153.5,-1218.8786\" fill=\"none\" stroke=\"#000000\"/>\n",
       "<polygon fill=\"#000000\" points=\"157.0001,-1218.784 153.5,-1208.784 150.0001,-1218.784 157.0001,-1218.784\" stroke=\"#000000\"/>\n",
       "</g>\n",
       "<!-- 140440934622432 -->\n",
       "<g class=\"node\" id=\"node14\">\n",
       "<title>140440934622432</title>\n",
       "<polygon fill=\"none\" points=\"0,-1079.5 0,-1125.5 307,-1125.5 307,-1079.5 0,-1079.5\" stroke=\"#000000\"/>\n",
       "<text fill=\"#000000\" font-family=\"Times,serif\" font-size=\"14.00\" text-anchor=\"middle\" x=\"63.5\" y=\"-1098.8\">BatchNormalization</text>\n",
       "<polyline fill=\"none\" points=\"127,-1079.5 127,-1125.5 \" stroke=\"#000000\"/>\n",
       "<text fill=\"#000000\" font-family=\"Times,serif\" font-size=\"14.00\" text-anchor=\"middle\" x=\"154.5\" y=\"-1110.3\">input:</text>\n",
       "<polyline fill=\"none\" points=\"127,-1102.5 182,-1102.5 \" stroke=\"#000000\"/>\n",
       "<text fill=\"#000000\" font-family=\"Times,serif\" font-size=\"14.00\" text-anchor=\"middle\" x=\"154.5\" y=\"-1087.3\">output:</text>\n",
       "<polyline fill=\"none\" points=\"182,-1079.5 182,-1125.5 \" stroke=\"#000000\"/>\n",
       "<text fill=\"#000000\" font-family=\"Times,serif\" font-size=\"14.00\" text-anchor=\"middle\" x=\"244.5\" y=\"-1110.3\">(None, 16, 16, 128)</text>\n",
       "<polyline fill=\"none\" points=\"182,-1102.5 307,-1102.5 \" stroke=\"#000000\"/>\n",
       "<text fill=\"#000000\" font-family=\"Times,serif\" font-size=\"14.00\" text-anchor=\"middle\" x=\"244.5\" y=\"-1087.3\">(None, 16, 16, 128)</text>\n",
       "</g>\n",
       "<!-- 140440934512792&#45;&gt;140440934622432 -->\n",
       "<g class=\"edge\" id=\"edge13\">\n",
       "<title>140440934512792-&gt;140440934622432</title>\n",
       "<path d=\"M153.5,-1162.3799C153.5,-1154.1745 153.5,-1144.7679 153.5,-1135.8786\" fill=\"none\" stroke=\"#000000\"/>\n",
       "<polygon fill=\"#000000\" points=\"157.0001,-1135.784 153.5,-1125.784 150.0001,-1135.784 157.0001,-1135.784\" stroke=\"#000000\"/>\n",
       "</g>\n",
       "<!-- 140436912135640 -->\n",
       "<g class=\"node\" id=\"node15\">\n",
       "<title>140436912135640</title>\n",
       "<polygon fill=\"none\" points=\"26.5,-996.5 26.5,-1042.5 280.5,-1042.5 280.5,-996.5 26.5,-996.5\" stroke=\"#000000\"/>\n",
       "<text fill=\"#000000\" font-family=\"Times,serif\" font-size=\"14.00\" text-anchor=\"middle\" x=\"63.5\" y=\"-1015.8\">Activation</text>\n",
       "<polyline fill=\"none\" points=\"100.5,-996.5 100.5,-1042.5 \" stroke=\"#000000\"/>\n",
       "<text fill=\"#000000\" font-family=\"Times,serif\" font-size=\"14.00\" text-anchor=\"middle\" x=\"128\" y=\"-1027.3\">input:</text>\n",
       "<polyline fill=\"none\" points=\"100.5,-1019.5 155.5,-1019.5 \" stroke=\"#000000\"/>\n",
       "<text fill=\"#000000\" font-family=\"Times,serif\" font-size=\"14.00\" text-anchor=\"middle\" x=\"128\" y=\"-1004.3\">output:</text>\n",
       "<polyline fill=\"none\" points=\"155.5,-996.5 155.5,-1042.5 \" stroke=\"#000000\"/>\n",
       "<text fill=\"#000000\" font-family=\"Times,serif\" font-size=\"14.00\" text-anchor=\"middle\" x=\"218\" y=\"-1027.3\">(None, 16, 16, 128)</text>\n",
       "<polyline fill=\"none\" points=\"155.5,-1019.5 280.5,-1019.5 \" stroke=\"#000000\"/>\n",
       "<text fill=\"#000000\" font-family=\"Times,serif\" font-size=\"14.00\" text-anchor=\"middle\" x=\"218\" y=\"-1004.3\">(None, 16, 16, 128)</text>\n",
       "</g>\n",
       "<!-- 140440934622432&#45;&gt;140436912135640 -->\n",
       "<g class=\"edge\" id=\"edge14\">\n",
       "<title>140440934622432-&gt;140436912135640</title>\n",
       "<path d=\"M153.5,-1079.3799C153.5,-1071.1745 153.5,-1061.7679 153.5,-1052.8786\" fill=\"none\" stroke=\"#000000\"/>\n",
       "<polygon fill=\"#000000\" points=\"157.0001,-1052.784 153.5,-1042.784 150.0001,-1052.784 157.0001,-1052.784\" stroke=\"#000000\"/>\n",
       "</g>\n",
       "<!-- 140436912046320 -->\n",
       "<g class=\"node\" id=\"node16\">\n",
       "<title>140436912046320</title>\n",
       "<polygon fill=\"none\" points=\"13,-913.5 13,-959.5 294,-959.5 294,-913.5 13,-913.5\" stroke=\"#000000\"/>\n",
       "<text fill=\"#000000\" font-family=\"Times,serif\" font-size=\"14.00\" text-anchor=\"middle\" x=\"63.5\" y=\"-932.8\">MaxPooling2D</text>\n",
       "<polyline fill=\"none\" points=\"114,-913.5 114,-959.5 \" stroke=\"#000000\"/>\n",
       "<text fill=\"#000000\" font-family=\"Times,serif\" font-size=\"14.00\" text-anchor=\"middle\" x=\"141.5\" y=\"-944.3\">input:</text>\n",
       "<polyline fill=\"none\" points=\"114,-936.5 169,-936.5 \" stroke=\"#000000\"/>\n",
       "<text fill=\"#000000\" font-family=\"Times,serif\" font-size=\"14.00\" text-anchor=\"middle\" x=\"141.5\" y=\"-921.3\">output:</text>\n",
       "<polyline fill=\"none\" points=\"169,-913.5 169,-959.5 \" stroke=\"#000000\"/>\n",
       "<text fill=\"#000000\" font-family=\"Times,serif\" font-size=\"14.00\" text-anchor=\"middle\" x=\"231.5\" y=\"-944.3\">(None, 16, 16, 128)</text>\n",
       "<polyline fill=\"none\" points=\"169,-936.5 294,-936.5 \" stroke=\"#000000\"/>\n",
       "<text fill=\"#000000\" font-family=\"Times,serif\" font-size=\"14.00\" text-anchor=\"middle\" x=\"231.5\" y=\"-921.3\">(None, 8, 8, 128)</text>\n",
       "</g>\n",
       "<!-- 140436912135640&#45;&gt;140436912046320 -->\n",
       "<g class=\"edge\" id=\"edge15\">\n",
       "<title>140436912135640-&gt;140436912046320</title>\n",
       "<path d=\"M153.5,-996.3799C153.5,-988.1745 153.5,-978.7679 153.5,-969.8786\" fill=\"none\" stroke=\"#000000\"/>\n",
       "<polygon fill=\"#000000\" points=\"157.0001,-969.784 153.5,-959.784 150.0001,-969.784 157.0001,-969.784\" stroke=\"#000000\"/>\n",
       "</g>\n",
       "<!-- 140438184670040 -->\n",
       "<g class=\"node\" id=\"node17\">\n",
       "<title>140438184670040</title>\n",
       "<polygon fill=\"none\" points=\"39.5,-830.5 39.5,-876.5 267.5,-876.5 267.5,-830.5 39.5,-830.5\" stroke=\"#000000\"/>\n",
       "<text fill=\"#000000\" font-family=\"Times,serif\" font-size=\"14.00\" text-anchor=\"middle\" x=\"70.5\" y=\"-849.8\">Conv2D</text>\n",
       "<polyline fill=\"none\" points=\"101.5,-830.5 101.5,-876.5 \" stroke=\"#000000\"/>\n",
       "<text fill=\"#000000\" font-family=\"Times,serif\" font-size=\"14.00\" text-anchor=\"middle\" x=\"129\" y=\"-861.3\">input:</text>\n",
       "<polyline fill=\"none\" points=\"101.5,-853.5 156.5,-853.5 \" stroke=\"#000000\"/>\n",
       "<text fill=\"#000000\" font-family=\"Times,serif\" font-size=\"14.00\" text-anchor=\"middle\" x=\"129\" y=\"-838.3\">output:</text>\n",
       "<polyline fill=\"none\" points=\"156.5,-830.5 156.5,-876.5 \" stroke=\"#000000\"/>\n",
       "<text fill=\"#000000\" font-family=\"Times,serif\" font-size=\"14.00\" text-anchor=\"middle\" x=\"212\" y=\"-861.3\">(None, 8, 8, 128)</text>\n",
       "<polyline fill=\"none\" points=\"156.5,-853.5 267.5,-853.5 \" stroke=\"#000000\"/>\n",
       "<text fill=\"#000000\" font-family=\"Times,serif\" font-size=\"14.00\" text-anchor=\"middle\" x=\"212\" y=\"-838.3\">(None, 8, 8, 64)</text>\n",
       "</g>\n",
       "<!-- 140436912046320&#45;&gt;140438184670040 -->\n",
       "<g class=\"edge\" id=\"edge16\">\n",
       "<title>140436912046320-&gt;140438184670040</title>\n",
       "<path d=\"M153.5,-913.3799C153.5,-905.1745 153.5,-895.7679 153.5,-886.8786\" fill=\"none\" stroke=\"#000000\"/>\n",
       "<polygon fill=\"#000000\" points=\"157.0001,-886.784 153.5,-876.784 150.0001,-886.784 157.0001,-886.784\" stroke=\"#000000\"/>\n",
       "</g>\n",
       "<!-- 140436311829920 -->\n",
       "<g class=\"node\" id=\"node18\">\n",
       "<title>140436311829920</title>\n",
       "<polygon fill=\"none\" points=\"10.5,-747.5 10.5,-793.5 296.5,-793.5 296.5,-747.5 10.5,-747.5\" stroke=\"#000000\"/>\n",
       "<text fill=\"#000000\" font-family=\"Times,serif\" font-size=\"14.00\" text-anchor=\"middle\" x=\"74\" y=\"-766.8\">BatchNormalization</text>\n",
       "<polyline fill=\"none\" points=\"137.5,-747.5 137.5,-793.5 \" stroke=\"#000000\"/>\n",
       "<text fill=\"#000000\" font-family=\"Times,serif\" font-size=\"14.00\" text-anchor=\"middle\" x=\"165\" y=\"-778.3\">input:</text>\n",
       "<polyline fill=\"none\" points=\"137.5,-770.5 192.5,-770.5 \" stroke=\"#000000\"/>\n",
       "<text fill=\"#000000\" font-family=\"Times,serif\" font-size=\"14.00\" text-anchor=\"middle\" x=\"165\" y=\"-755.3\">output:</text>\n",
       "<polyline fill=\"none\" points=\"192.5,-747.5 192.5,-793.5 \" stroke=\"#000000\"/>\n",
       "<text fill=\"#000000\" font-family=\"Times,serif\" font-size=\"14.00\" text-anchor=\"middle\" x=\"244.5\" y=\"-778.3\">(None, 8, 8, 64)</text>\n",
       "<polyline fill=\"none\" points=\"192.5,-770.5 296.5,-770.5 \" stroke=\"#000000\"/>\n",
       "<text fill=\"#000000\" font-family=\"Times,serif\" font-size=\"14.00\" text-anchor=\"middle\" x=\"244.5\" y=\"-755.3\">(None, 8, 8, 64)</text>\n",
       "</g>\n",
       "<!-- 140438184670040&#45;&gt;140436311829920 -->\n",
       "<g class=\"edge\" id=\"edge17\">\n",
       "<title>140438184670040-&gt;140436311829920</title>\n",
       "<path d=\"M153.5,-830.3799C153.5,-822.1745 153.5,-812.7679 153.5,-803.8786\" fill=\"none\" stroke=\"#000000\"/>\n",
       "<polygon fill=\"#000000\" points=\"157.0001,-803.784 153.5,-793.784 150.0001,-803.784 157.0001,-803.784\" stroke=\"#000000\"/>\n",
       "</g>\n",
       "<!-- 140436311438784 -->\n",
       "<g class=\"node\" id=\"node19\">\n",
       "<title>140436311438784</title>\n",
       "<polygon fill=\"none\" points=\"37,-664.5 37,-710.5 270,-710.5 270,-664.5 37,-664.5\" stroke=\"#000000\"/>\n",
       "<text fill=\"#000000\" font-family=\"Times,serif\" font-size=\"14.00\" text-anchor=\"middle\" x=\"74\" y=\"-683.8\">Activation</text>\n",
       "<polyline fill=\"none\" points=\"111,-664.5 111,-710.5 \" stroke=\"#000000\"/>\n",
       "<text fill=\"#000000\" font-family=\"Times,serif\" font-size=\"14.00\" text-anchor=\"middle\" x=\"138.5\" y=\"-695.3\">input:</text>\n",
       "<polyline fill=\"none\" points=\"111,-687.5 166,-687.5 \" stroke=\"#000000\"/>\n",
       "<text fill=\"#000000\" font-family=\"Times,serif\" font-size=\"14.00\" text-anchor=\"middle\" x=\"138.5\" y=\"-672.3\">output:</text>\n",
       "<polyline fill=\"none\" points=\"166,-664.5 166,-710.5 \" stroke=\"#000000\"/>\n",
       "<text fill=\"#000000\" font-family=\"Times,serif\" font-size=\"14.00\" text-anchor=\"middle\" x=\"218\" y=\"-695.3\">(None, 8, 8, 64)</text>\n",
       "<polyline fill=\"none\" points=\"166,-687.5 270,-687.5 \" stroke=\"#000000\"/>\n",
       "<text fill=\"#000000\" font-family=\"Times,serif\" font-size=\"14.00\" text-anchor=\"middle\" x=\"218\" y=\"-672.3\">(None, 8, 8, 64)</text>\n",
       "</g>\n",
       "<!-- 140436311829920&#45;&gt;140436311438784 -->\n",
       "<g class=\"edge\" id=\"edge18\">\n",
       "<title>140436311829920-&gt;140436311438784</title>\n",
       "<path d=\"M153.5,-747.3799C153.5,-739.1745 153.5,-729.7679 153.5,-720.8786\" fill=\"none\" stroke=\"#000000\"/>\n",
       "<polygon fill=\"#000000\" points=\"157.0001,-720.784 153.5,-710.784 150.0001,-720.784 157.0001,-720.784\" stroke=\"#000000\"/>\n",
       "</g>\n",
       "<!-- 140436311441360 -->\n",
       "<g class=\"node\" id=\"node20\">\n",
       "<title>140436311441360</title>\n",
       "<polygon fill=\"none\" points=\"15.5,-581.5 15.5,-627.5 291.5,-627.5 291.5,-581.5 15.5,-581.5\" stroke=\"#000000\"/>\n",
       "<text fill=\"#000000\" font-family=\"Times,serif\" font-size=\"14.00\" text-anchor=\"middle\" x=\"67\" y=\"-600.8\">ZeroPadding2D</text>\n",
       "<polyline fill=\"none\" points=\"118.5,-581.5 118.5,-627.5 \" stroke=\"#000000\"/>\n",
       "<text fill=\"#000000\" font-family=\"Times,serif\" font-size=\"14.00\" text-anchor=\"middle\" x=\"146\" y=\"-612.3\">input:</text>\n",
       "<polyline fill=\"none\" points=\"118.5,-604.5 173.5,-604.5 \" stroke=\"#000000\"/>\n",
       "<text fill=\"#000000\" font-family=\"Times,serif\" font-size=\"14.00\" text-anchor=\"middle\" x=\"146\" y=\"-589.3\">output:</text>\n",
       "<polyline fill=\"none\" points=\"173.5,-581.5 173.5,-627.5 \" stroke=\"#000000\"/>\n",
       "<text fill=\"#000000\" font-family=\"Times,serif\" font-size=\"14.00\" text-anchor=\"middle\" x=\"232.5\" y=\"-612.3\">(None, 8, 8, 64)</text>\n",
       "<polyline fill=\"none\" points=\"173.5,-604.5 291.5,-604.5 \" stroke=\"#000000\"/>\n",
       "<text fill=\"#000000\" font-family=\"Times,serif\" font-size=\"14.00\" text-anchor=\"middle\" x=\"232.5\" y=\"-589.3\">(None, 10, 10, 64)</text>\n",
       "</g>\n",
       "<!-- 140436311438784&#45;&gt;140436311441360 -->\n",
       "<g class=\"edge\" id=\"edge19\">\n",
       "<title>140436311438784-&gt;140436311441360</title>\n",
       "<path d=\"M153.5,-664.3799C153.5,-656.1745 153.5,-646.7679 153.5,-637.8786\" fill=\"none\" stroke=\"#000000\"/>\n",
       "<polygon fill=\"#000000\" points=\"157.0001,-637.784 153.5,-627.784 150.0001,-637.784 157.0001,-637.784\" stroke=\"#000000\"/>\n",
       "</g>\n",
       "<!-- 140436310871736 -->\n",
       "<g class=\"node\" id=\"node21\">\n",
       "<title>140436310871736</title>\n",
       "<polygon fill=\"none\" points=\"36,-498.5 36,-544.5 271,-544.5 271,-498.5 36,-498.5\" stroke=\"#000000\"/>\n",
       "<text fill=\"#000000\" font-family=\"Times,serif\" font-size=\"14.00\" text-anchor=\"middle\" x=\"67\" y=\"-517.8\">Conv2D</text>\n",
       "<polyline fill=\"none\" points=\"98,-498.5 98,-544.5 \" stroke=\"#000000\"/>\n",
       "<text fill=\"#000000\" font-family=\"Times,serif\" font-size=\"14.00\" text-anchor=\"middle\" x=\"125.5\" y=\"-529.3\">input:</text>\n",
       "<polyline fill=\"none\" points=\"98,-521.5 153,-521.5 \" stroke=\"#000000\"/>\n",
       "<text fill=\"#000000\" font-family=\"Times,serif\" font-size=\"14.00\" text-anchor=\"middle\" x=\"125.5\" y=\"-506.3\">output:</text>\n",
       "<polyline fill=\"none\" points=\"153,-498.5 153,-544.5 \" stroke=\"#000000\"/>\n",
       "<text fill=\"#000000\" font-family=\"Times,serif\" font-size=\"14.00\" text-anchor=\"middle\" x=\"212\" y=\"-529.3\">(None, 10, 10, 64)</text>\n",
       "<polyline fill=\"none\" points=\"153,-521.5 271,-521.5 \" stroke=\"#000000\"/>\n",
       "<text fill=\"#000000\" font-family=\"Times,serif\" font-size=\"14.00\" text-anchor=\"middle\" x=\"212\" y=\"-506.3\">(None, 8, 8, 32)</text>\n",
       "</g>\n",
       "<!-- 140436311441360&#45;&gt;140436310871736 -->\n",
       "<g class=\"edge\" id=\"edge20\">\n",
       "<title>140436311441360-&gt;140436310871736</title>\n",
       "<path d=\"M153.5,-581.3799C153.5,-573.1745 153.5,-563.7679 153.5,-554.8786\" fill=\"none\" stroke=\"#000000\"/>\n",
       "<polygon fill=\"#000000\" points=\"157.0001,-554.784 153.5,-544.784 150.0001,-554.784 157.0001,-554.784\" stroke=\"#000000\"/>\n",
       "</g>\n",
       "<!-- 140436310705936 -->\n",
       "<g class=\"node\" id=\"node22\">\n",
       "<title>140436310705936</title>\n",
       "<polygon fill=\"none\" points=\"10.5,-415.5 10.5,-461.5 296.5,-461.5 296.5,-415.5 10.5,-415.5\" stroke=\"#000000\"/>\n",
       "<text fill=\"#000000\" font-family=\"Times,serif\" font-size=\"14.00\" text-anchor=\"middle\" x=\"74\" y=\"-434.8\">BatchNormalization</text>\n",
       "<polyline fill=\"none\" points=\"137.5,-415.5 137.5,-461.5 \" stroke=\"#000000\"/>\n",
       "<text fill=\"#000000\" font-family=\"Times,serif\" font-size=\"14.00\" text-anchor=\"middle\" x=\"165\" y=\"-446.3\">input:</text>\n",
       "<polyline fill=\"none\" points=\"137.5,-438.5 192.5,-438.5 \" stroke=\"#000000\"/>\n",
       "<text fill=\"#000000\" font-family=\"Times,serif\" font-size=\"14.00\" text-anchor=\"middle\" x=\"165\" y=\"-423.3\">output:</text>\n",
       "<polyline fill=\"none\" points=\"192.5,-415.5 192.5,-461.5 \" stroke=\"#000000\"/>\n",
       "<text fill=\"#000000\" font-family=\"Times,serif\" font-size=\"14.00\" text-anchor=\"middle\" x=\"244.5\" y=\"-446.3\">(None, 8, 8, 32)</text>\n",
       "<polyline fill=\"none\" points=\"192.5,-438.5 296.5,-438.5 \" stroke=\"#000000\"/>\n",
       "<text fill=\"#000000\" font-family=\"Times,serif\" font-size=\"14.00\" text-anchor=\"middle\" x=\"244.5\" y=\"-423.3\">(None, 8, 8, 32)</text>\n",
       "</g>\n",
       "<!-- 140436310871736&#45;&gt;140436310705936 -->\n",
       "<g class=\"edge\" id=\"edge21\">\n",
       "<title>140436310871736-&gt;140436310705936</title>\n",
       "<path d=\"M153.5,-498.3799C153.5,-490.1745 153.5,-480.7679 153.5,-471.8786\" fill=\"none\" stroke=\"#000000\"/>\n",
       "<polygon fill=\"#000000\" points=\"157.0001,-471.784 153.5,-461.784 150.0001,-471.784 157.0001,-471.784\" stroke=\"#000000\"/>\n",
       "</g>\n",
       "<!-- 140436310705712 -->\n",
       "<g class=\"node\" id=\"node23\">\n",
       "<title>140436310705712</title>\n",
       "<polygon fill=\"none\" points=\"37,-332.5 37,-378.5 270,-378.5 270,-332.5 37,-332.5\" stroke=\"#000000\"/>\n",
       "<text fill=\"#000000\" font-family=\"Times,serif\" font-size=\"14.00\" text-anchor=\"middle\" x=\"74\" y=\"-351.8\">Activation</text>\n",
       "<polyline fill=\"none\" points=\"111,-332.5 111,-378.5 \" stroke=\"#000000\"/>\n",
       "<text fill=\"#000000\" font-family=\"Times,serif\" font-size=\"14.00\" text-anchor=\"middle\" x=\"138.5\" y=\"-363.3\">input:</text>\n",
       "<polyline fill=\"none\" points=\"111,-355.5 166,-355.5 \" stroke=\"#000000\"/>\n",
       "<text fill=\"#000000\" font-family=\"Times,serif\" font-size=\"14.00\" text-anchor=\"middle\" x=\"138.5\" y=\"-340.3\">output:</text>\n",
       "<polyline fill=\"none\" points=\"166,-332.5 166,-378.5 \" stroke=\"#000000\"/>\n",
       "<text fill=\"#000000\" font-family=\"Times,serif\" font-size=\"14.00\" text-anchor=\"middle\" x=\"218\" y=\"-363.3\">(None, 8, 8, 32)</text>\n",
       "<polyline fill=\"none\" points=\"166,-355.5 270,-355.5 \" stroke=\"#000000\"/>\n",
       "<text fill=\"#000000\" font-family=\"Times,serif\" font-size=\"14.00\" text-anchor=\"middle\" x=\"218\" y=\"-340.3\">(None, 8, 8, 32)</text>\n",
       "</g>\n",
       "<!-- 140436310705936&#45;&gt;140436310705712 -->\n",
       "<g class=\"edge\" id=\"edge22\">\n",
       "<title>140436310705936-&gt;140436310705712</title>\n",
       "<path d=\"M153.5,-415.3799C153.5,-407.1745 153.5,-397.7679 153.5,-388.8786\" fill=\"none\" stroke=\"#000000\"/>\n",
       "<polygon fill=\"#000000\" points=\"157.0001,-388.784 153.5,-378.784 150.0001,-388.784 157.0001,-388.784\" stroke=\"#000000\"/>\n",
       "</g>\n",
       "<!-- 140436310707224 -->\n",
       "<g class=\"node\" id=\"node24\">\n",
       "<title>140436310707224</title>\n",
       "<polygon fill=\"none\" points=\"23.5,-249.5 23.5,-295.5 283.5,-295.5 283.5,-249.5 23.5,-249.5\" stroke=\"#000000\"/>\n",
       "<text fill=\"#000000\" font-family=\"Times,serif\" font-size=\"14.00\" text-anchor=\"middle\" x=\"74\" y=\"-268.8\">MaxPooling2D</text>\n",
       "<polyline fill=\"none\" points=\"124.5,-249.5 124.5,-295.5 \" stroke=\"#000000\"/>\n",
       "<text fill=\"#000000\" font-family=\"Times,serif\" font-size=\"14.00\" text-anchor=\"middle\" x=\"152\" y=\"-280.3\">input:</text>\n",
       "<polyline fill=\"none\" points=\"124.5,-272.5 179.5,-272.5 \" stroke=\"#000000\"/>\n",
       "<text fill=\"#000000\" font-family=\"Times,serif\" font-size=\"14.00\" text-anchor=\"middle\" x=\"152\" y=\"-257.3\">output:</text>\n",
       "<polyline fill=\"none\" points=\"179.5,-249.5 179.5,-295.5 \" stroke=\"#000000\"/>\n",
       "<text fill=\"#000000\" font-family=\"Times,serif\" font-size=\"14.00\" text-anchor=\"middle\" x=\"231.5\" y=\"-280.3\">(None, 8, 8, 32)</text>\n",
       "<polyline fill=\"none\" points=\"179.5,-272.5 283.5,-272.5 \" stroke=\"#000000\"/>\n",
       "<text fill=\"#000000\" font-family=\"Times,serif\" font-size=\"14.00\" text-anchor=\"middle\" x=\"231.5\" y=\"-257.3\">(None, 4, 4, 32)</text>\n",
       "</g>\n",
       "<!-- 140436310705712&#45;&gt;140436310707224 -->\n",
       "<g class=\"edge\" id=\"edge23\">\n",
       "<title>140436310705712-&gt;140436310707224</title>\n",
       "<path d=\"M153.5,-332.3799C153.5,-324.1745 153.5,-314.7679 153.5,-305.8786\" fill=\"none\" stroke=\"#000000\"/>\n",
       "<polygon fill=\"#000000\" points=\"157.0001,-305.784 153.5,-295.784 150.0001,-305.784 157.0001,-305.784\" stroke=\"#000000\"/>\n",
       "</g>\n",
       "<!-- 140436310708120 -->\n",
       "<g class=\"node\" id=\"node25\">\n",
       "<title>140436310708120</title>\n",
       "<polygon fill=\"none\" points=\"47,-166.5 47,-212.5 260,-212.5 260,-166.5 47,-166.5\" stroke=\"#000000\"/>\n",
       "<text fill=\"#000000\" font-family=\"Times,serif\" font-size=\"14.00\" text-anchor=\"middle\" x=\"74\" y=\"-185.8\">Flatten</text>\n",
       "<polyline fill=\"none\" points=\"101,-166.5 101,-212.5 \" stroke=\"#000000\"/>\n",
       "<text fill=\"#000000\" font-family=\"Times,serif\" font-size=\"14.00\" text-anchor=\"middle\" x=\"128.5\" y=\"-197.3\">input:</text>\n",
       "<polyline fill=\"none\" points=\"101,-189.5 156,-189.5 \" stroke=\"#000000\"/>\n",
       "<text fill=\"#000000\" font-family=\"Times,serif\" font-size=\"14.00\" text-anchor=\"middle\" x=\"128.5\" y=\"-174.3\">output:</text>\n",
       "<polyline fill=\"none\" points=\"156,-166.5 156,-212.5 \" stroke=\"#000000\"/>\n",
       "<text fill=\"#000000\" font-family=\"Times,serif\" font-size=\"14.00\" text-anchor=\"middle\" x=\"208\" y=\"-197.3\">(None, 4, 4, 32)</text>\n",
       "<polyline fill=\"none\" points=\"156,-189.5 260,-189.5 \" stroke=\"#000000\"/>\n",
       "<text fill=\"#000000\" font-family=\"Times,serif\" font-size=\"14.00\" text-anchor=\"middle\" x=\"208\" y=\"-174.3\">(None, 512)</text>\n",
       "</g>\n",
       "<!-- 140436310707224&#45;&gt;140436310708120 -->\n",
       "<g class=\"edge\" id=\"edge24\">\n",
       "<title>140436310707224-&gt;140436310708120</title>\n",
       "<path d=\"M153.5,-249.3799C153.5,-241.1745 153.5,-231.7679 153.5,-222.8786\" fill=\"none\" stroke=\"#000000\"/>\n",
       "<polygon fill=\"#000000\" points=\"157.0001,-222.784 153.5,-212.784 150.0001,-222.784 157.0001,-222.784\" stroke=\"#000000\"/>\n",
       "</g>\n",
       "<!-- 140436310773376 -->\n",
       "<g class=\"node\" id=\"node26\">\n",
       "<title>140436310773376</title>\n",
       "<polygon fill=\"none\" points=\"59.5,-83.5 59.5,-129.5 247.5,-129.5 247.5,-83.5 59.5,-83.5\" stroke=\"#000000\"/>\n",
       "<text fill=\"#000000\" font-family=\"Times,serif\" font-size=\"14.00\" text-anchor=\"middle\" x=\"84.5\" y=\"-102.8\">Dense</text>\n",
       "<polyline fill=\"none\" points=\"109.5,-83.5 109.5,-129.5 \" stroke=\"#000000\"/>\n",
       "<text fill=\"#000000\" font-family=\"Times,serif\" font-size=\"14.00\" text-anchor=\"middle\" x=\"137\" y=\"-114.3\">input:</text>\n",
       "<polyline fill=\"none\" points=\"109.5,-106.5 164.5,-106.5 \" stroke=\"#000000\"/>\n",
       "<text fill=\"#000000\" font-family=\"Times,serif\" font-size=\"14.00\" text-anchor=\"middle\" x=\"137\" y=\"-91.3\">output:</text>\n",
       "<polyline fill=\"none\" points=\"164.5,-83.5 164.5,-129.5 \" stroke=\"#000000\"/>\n",
       "<text fill=\"#000000\" font-family=\"Times,serif\" font-size=\"14.00\" text-anchor=\"middle\" x=\"206\" y=\"-114.3\">(None, 512)</text>\n",
       "<polyline fill=\"none\" points=\"164.5,-106.5 247.5,-106.5 \" stroke=\"#000000\"/>\n",
       "<text fill=\"#000000\" font-family=\"Times,serif\" font-size=\"14.00\" text-anchor=\"middle\" x=\"206\" y=\"-91.3\">(None, 128)</text>\n",
       "</g>\n",
       "<!-- 140436310708120&#45;&gt;140436310773376 -->\n",
       "<g class=\"edge\" id=\"edge25\">\n",
       "<title>140436310708120-&gt;140436310773376</title>\n",
       "<path d=\"M153.5,-166.3799C153.5,-158.1745 153.5,-148.7679 153.5,-139.8786\" fill=\"none\" stroke=\"#000000\"/>\n",
       "<polygon fill=\"#000000\" points=\"157.0001,-139.784 153.5,-129.784 150.0001,-139.784 157.0001,-139.784\" stroke=\"#000000\"/>\n",
       "</g>\n",
       "<!-- 140436309949464 -->\n",
       "<g class=\"node\" id=\"node27\">\n",
       "<title>140436309949464</title>\n",
       "<polygon fill=\"none\" points=\"59.5,-.5 59.5,-46.5 247.5,-46.5 247.5,-.5 59.5,-.5\" stroke=\"#000000\"/>\n",
       "<text fill=\"#000000\" font-family=\"Times,serif\" font-size=\"14.00\" text-anchor=\"middle\" x=\"84.5\" y=\"-19.8\">Dense</text>\n",
       "<polyline fill=\"none\" points=\"109.5,-.5 109.5,-46.5 \" stroke=\"#000000\"/>\n",
       "<text fill=\"#000000\" font-family=\"Times,serif\" font-size=\"14.00\" text-anchor=\"middle\" x=\"137\" y=\"-31.3\">input:</text>\n",
       "<polyline fill=\"none\" points=\"109.5,-23.5 164.5,-23.5 \" stroke=\"#000000\"/>\n",
       "<text fill=\"#000000\" font-family=\"Times,serif\" font-size=\"14.00\" text-anchor=\"middle\" x=\"137\" y=\"-8.3\">output:</text>\n",
       "<polyline fill=\"none\" points=\"164.5,-.5 164.5,-46.5 \" stroke=\"#000000\"/>\n",
       "<text fill=\"#000000\" font-family=\"Times,serif\" font-size=\"14.00\" text-anchor=\"middle\" x=\"206\" y=\"-31.3\">(None, 128)</text>\n",
       "<polyline fill=\"none\" points=\"164.5,-23.5 247.5,-23.5 \" stroke=\"#000000\"/>\n",
       "<text fill=\"#000000\" font-family=\"Times,serif\" font-size=\"14.00\" text-anchor=\"middle\" x=\"206\" y=\"-8.3\">(None, 6)</text>\n",
       "</g>\n",
       "<!-- 140436310773376&#45;&gt;140436309949464 -->\n",
       "<g class=\"edge\" id=\"edge26\">\n",
       "<title>140436310773376-&gt;140436309949464</title>\n",
       "<path d=\"M153.5,-83.3799C153.5,-75.1745 153.5,-65.7679 153.5,-56.8786\" fill=\"none\" stroke=\"#000000\"/>\n",
       "<polygon fill=\"#000000\" points=\"157.0001,-56.784 153.5,-46.784 150.0001,-56.784 157.0001,-56.784\" stroke=\"#000000\"/>\n",
       "</g>\n",
       "</g>\n",
       "</svg>"
      ],
      "text/plain": [
       "<IPython.core.display.SVG object>"
      ]
     },
     "execution_count": 41,
     "metadata": {},
     "output_type": "execute_result"
    }
   ],
   "source": [
    "from IPython.display import SVG\n",
    "from tensorflow.python.keras.utils.vis_utils import model_to_dot\n",
    "SVG(model_to_dot(model, show_shapes=True,show_layer_names=False).create(prog='dot', format='svg'))"
   ]
  },
  {
   "cell_type": "markdown",
   "metadata": {},
   "source": [
    "## train your model"
   ]
  },
  {
   "cell_type": "code",
   "execution_count": 42,
   "metadata": {},
   "outputs": [],
   "source": [
    "model.compile(optimizer = \"adam\", loss = \"categorical_crossentropy\", metrics = [\"accuracy\"])"
   ]
  },
  {
   "cell_type": "code",
   "execution_count": 43,
   "metadata": {},
   "outputs": [
    {
     "name": "stdout",
     "output_type": "stream",
     "text": [
      "Train on 1080 samples, validate on 120 samples\n",
      "Epoch 1/20\n",
      "1080/1080 [==============================] - 3s 3ms/step - loss: 1.0716 - acc: 0.6074 - val_loss: 1.8464 - val_acc: 0.1667\n",
      "Epoch 2/20\n",
      "1080/1080 [==============================] - 1s 588us/step - loss: 0.3872 - acc: 0.8657 - val_loss: 2.0249 - val_acc: 0.2917\n",
      "Epoch 3/20\n",
      "1080/1080 [==============================] - 1s 717us/step - loss: 0.1403 - acc: 0.9583 - val_loss: 2.1159 - val_acc: 0.3750\n",
      "Epoch 4/20\n",
      "1080/1080 [==============================] - 1s 823us/step - loss: 0.0638 - acc: 0.9880 - val_loss: 2.4968 - val_acc: 0.3833\n",
      "Epoch 5/20\n",
      "1080/1080 [==============================] - 1s 789us/step - loss: 0.0509 - acc: 0.9870 - val_loss: 0.8726 - val_acc: 0.6917\n",
      "Epoch 6/20\n",
      "1080/1080 [==============================] - 1s 849us/step - loss: 0.0570 - acc: 0.9889 - val_loss: 8.6207 - val_acc: 0.1917\n",
      "Epoch 7/20\n",
      "1080/1080 [==============================] - 1s 838us/step - loss: 0.1859 - acc: 0.9333 - val_loss: 2.7637 - val_acc: 0.3500\n",
      "Epoch 8/20\n",
      "1080/1080 [==============================] - 1s 731us/step - loss: 0.0381 - acc: 0.9898 - val_loss: 0.6826 - val_acc: 0.7667\n",
      "Epoch 9/20\n",
      "1080/1080 [==============================] - 1s 717us/step - loss: 0.0103 - acc: 0.9991 - val_loss: 0.2173 - val_acc: 0.9167\n",
      "Epoch 10/20\n",
      "1080/1080 [==============================] - 1s 807us/step - loss: 0.0033 - acc: 1.0000 - val_loss: 0.0697 - val_acc: 0.9667\n",
      "Epoch 11/20\n",
      "1080/1080 [==============================] - 1s 900us/step - loss: 0.0016 - acc: 1.0000 - val_loss: 0.0271 - val_acc: 0.9917\n",
      "Epoch 12/20\n",
      "1080/1080 [==============================] - 1s 1ms/step - loss: 0.0015 - acc: 1.0000 - val_loss: 0.0314 - val_acc: 0.9917\n",
      "Epoch 13/20\n",
      "1080/1080 [==============================] - 1s 935us/step - loss: 0.0011 - acc: 1.0000 - val_loss: 0.0297 - val_acc: 0.9917\n",
      "Epoch 14/20\n",
      "1080/1080 [==============================] - 1s 691us/step - loss: 0.0010 - acc: 1.0000 - val_loss: 0.0275 - val_acc: 0.9917\n",
      "Epoch 15/20\n",
      "1080/1080 [==============================] - 1s 718us/step - loss: 7.9576e-04 - acc: 1.0000 - val_loss: 0.0339 - val_acc: 0.9833\n",
      "Epoch 16/20\n",
      "1080/1080 [==============================] - 1s 666us/step - loss: 7.6018e-04 - acc: 1.0000 - val_loss: 0.0312 - val_acc: 0.9917\n",
      "Epoch 17/20\n",
      "1080/1080 [==============================] - 1s 747us/step - loss: 6.1322e-04 - acc: 1.0000 - val_loss: 0.0276 - val_acc: 0.9917\n",
      "Epoch 18/20\n",
      "1080/1080 [==============================] - 1s 790us/step - loss: 5.4142e-04 - acc: 1.0000 - val_loss: 0.0304 - val_acc: 0.9833\n",
      "Epoch 19/20\n",
      "1080/1080 [==============================] - 1s 753us/step - loss: 5.0292e-04 - acc: 1.0000 - val_loss: 0.0311 - val_acc: 0.9917\n",
      "Epoch 20/20\n",
      "1080/1080 [==============================] - 1s 787us/step - loss: 5.3647e-04 - acc: 1.0000 - val_loss: 0.0349 - val_acc: 0.9833\n"
     ]
    },
    {
     "data": {
      "text/plain": [
       "<tensorflow.python.keras.callbacks.History at 0x7fb9e0566320>"
      ]
     },
     "execution_count": 43,
     "metadata": {},
     "output_type": "execute_result"
    }
   ],
   "source": [
    "model.fit(x = X_train, y = Y_train, epochs = 20, batch_size = 16,validation_data=(X_test,Y_test))"
   ]
  },
  {
   "cell_type": "markdown",
   "metadata": {},
   "source": [
    "## prediect "
   ]
  },
  {
   "cell_type": "code",
   "execution_count": 44,
   "metadata": {},
   "outputs": [],
   "source": [
    "y_pred=np.argmax(model.predict(X_test),axis=1)"
   ]
  },
  {
   "cell_type": "code",
   "execution_count": 45,
   "metadata": {},
   "outputs": [
    {
     "data": {
      "text/plain": [
       "array([0, 0, 0, 5, 1, 0, 3, 1, 5, 1, 5, 1, 3, 1, 1, 3, 5, 4, 0, 4, 5, 4,\n",
       "       2, 5, 3, 5, 4, 2, 1, 2, 3, 1, 0, 3, 1, 1, 0, 5, 2, 3, 0, 3, 0, 2,\n",
       "       3, 1, 1, 2, 0, 3, 4, 1, 2, 0, 4, 0, 4, 0, 4, 4, 5, 5, 2, 4, 4, 5,\n",
       "       0, 1, 3, 5, 0, 4, 1, 2, 3, 4, 3, 5, 1, 5, 2, 0, 1, 4, 2, 4, 4, 1,\n",
       "       4, 5, 5, 0, 0, 5, 5, 5, 3, 3, 5, 2, 2, 2, 0, 2, 5, 3, 0, 2, 3, 4,\n",
       "       1, 3, 2, 4, 2, 2, 1, 3, 1, 3])"
      ]
     },
     "execution_count": 45,
     "metadata": {},
     "output_type": "execute_result"
    }
   ],
   "source": [
    "y_pred"
   ]
  },
  {
   "cell_type": "markdown",
   "metadata": {},
   "source": [
    "## save model"
   ]
  },
  {
   "cell_type": "code",
   "execution_count": 46,
   "metadata": {},
   "outputs": [],
   "source": [
    "model.save('./my_cnn.h5')"
   ]
  },
  {
   "cell_type": "markdown",
   "metadata": {},
   "source": [
    "## load model"
   ]
  },
  {
   "cell_type": "code",
   "execution_count": 47,
   "metadata": {},
   "outputs": [],
   "source": [
    "del model"
   ]
  },
  {
   "cell_type": "code",
   "execution_count": 49,
   "metadata": {},
   "outputs": [],
   "source": [
    "from tensorflow.keras.models import load_model\n",
    "model = load_model('./my_cnn.h5')"
   ]
  },
  {
   "cell_type": "code",
   "execution_count": 50,
   "metadata": {},
   "outputs": [
    {
     "name": "stdout",
     "output_type": "stream",
     "text": [
      "120/120 [==============================] - 1s 5ms/step\n"
     ]
    },
    {
     "data": {
      "text/plain": [
       "[0.034929737790177266, 0.9833333333333333]"
      ]
     },
     "execution_count": 50,
     "metadata": {},
     "output_type": "execute_result"
    }
   ],
   "source": [
    "model.evaluate(X_test,Y_test)"
   ]
  },
  {
   "cell_type": "markdown",
   "metadata": {},
   "source": [
    "# Homework"
   ]
  },
  {
   "cell_type": "markdown",
   "metadata": {},
   "source": [
    "You need fit and predict MNIST datasets using CNN"
   ]
  },
  {
   "cell_type": "markdown",
   "metadata": {},
   "source": [
    "## Problem statement: MNIST Dataset"
   ]
  },
  {
   "cell_type": "code",
   "execution_count": 58,
   "metadata": {},
   "outputs": [],
   "source": [
    "(X_train, y_train), (X_test, y_test) = tf.keras.datasets.mnist.load_data()\n",
    "X_train = X_train.astype(np.float32).reshape(-1, 28*28) / 255.0\n",
    "X_test = X_test.astype(np.float32).reshape(-1, 28*28) / 255.0\n",
    "y_train = y_train.astype(np.int32)\n",
    "y_test = y_test.astype(np.int32)"
   ]
  },
  {
   "cell_type": "code",
   "execution_count": 59,
   "metadata": {},
   "outputs": [
    {
     "name": "stdout",
     "output_type": "stream",
     "text": [
      "y = 0\n"
     ]
    },
    {
     "data": {
      "image/png": "[encoded data removed]",
      "text/plain": [
       "<Figure size 432x288 with 1 Axes>"
      ]
     },
     "metadata": {
      "needs_background": "light"
     },
     "output_type": "display_data"
    }
   ],
   "source": [
    "# Example of a picture\n",
    "index = 1\n",
    "plt.imshow(X_train[index].reshape(28,28))\n",
    "print (\"y = \" + str(np.squeeze(Y_train_orig[:, index])))"
   ]
  },
  {
   "cell_type": "markdown",
   "metadata": {},
   "source": [
    "**Exercise**: Implement a `cnn_model()`. This assignment is more open-ended than most. We suggest that you start by implementing a model using the architecture we suggest, and run through the rest of this assignment using that as your initial model. But after that, come back and take initiative to try out other model architectures. For example, you might take inspiration from the model above, but then vary the network architecture and hyperparameters however you wish. You can also use other functions such as `AveragePooling2D()`, `GlobalMaxPooling2D()`, `Dropout()`. "
   ]
  },
  {
   "cell_type": "code",
   "execution_count": null,
   "metadata": {},
   "outputs": [],
   "source": []
  },
  {
   "cell_type": "markdown",
   "metadata": {},
   "source": [
    "# Additional question "
   ]
  },
  {
   "cell_type": "markdown",
   "metadata": {},
   "source": [
    "## Resnet"
   ]
  },
  {
   "cell_type": "markdown",
   "metadata": {},
   "source": [
    "A deep residual network (deep ResNet) is a type of specialized neural network that helps to handle more sophisticated deep learning tasks and models. It has received quite a bit of attention at recent IT conventions, and is being considered for helping with the training of deep networks."
   ]
  },
  {
   "cell_type": "markdown",
   "metadata": {},
   "source": [
    "Resnet is the most powerful network of computer vision, so please learn [Resnet](./Residual+Networks+-+v2.ipynb) by coding"
   ]
  },
  {
   "cell_type": "code",
   "execution_count": null,
   "metadata": {},
   "outputs": [],
   "source": []
  }
 ],
 "metadata": {
  "coursera": {
   "course_slug": "convolutional-neural-networks",
   "graded_item_id": "bwbJV",
   "launcher_item_id": "0TkXB"
  },
  "kernelspec": {
   "display_name": "Python 3",
   "language": "python",
   "name": "python3"
  },
  "language_info": {
   "codemirror_mode": {
    "name": "ipython",
    "version": 3
   },
   "file_extension": ".py",
   "mimetype": "text/x-python",
   "name": "python",
   "nbconvert_exporter": "python",
   "pygments_lexer": "ipython3",
   "version": "3.6.7"
  },
  "toc": {
   "base_numbering": 1,
   "nav_menu": {
    "height": "165px",
    "width": "341px"
   },
   "number_sections": true,
   "sideBar": true,
   "skip_h1_title": false,
   "title_cell": "Table of Contents",
   "title_sidebar": "Contents",
   "toc_cell": true,
   "toc_position": {
    "height": "calc(100% - 180px)",
    "left": "10px",
    "top": "150px",
    "width": "307.2px"
   },
   "toc_section_display": true,
   "toc_window_display": true
  }
 },
 "nbformat": 4,
 "nbformat_minor": 1
}
